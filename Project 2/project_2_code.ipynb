{
 "cells": [
  {
   "cell_type": "code",
   "execution_count": 169,
   "id": "f098bd0c",
   "metadata": {},
   "outputs": [],
   "source": [
    "# !pip install cvxopt\n",
    "# !pip install cvxpy"
   ]
  },
  {
   "cell_type": "code",
   "execution_count": 170,
   "id": "3e065fec",
   "metadata": {},
   "outputs": [],
   "source": [
    "import cplex\n",
    "import csv\n",
    "import numpy as np\n",
    "import cvxpy as cp\n",
    "import pandas as pd\n",
    "import ipopt\n",
    "import warnings\n",
    "warnings.filterwarnings(\"ignore\")\n",
    "import matplotlib.pyplot as plt\n",
    "import math"
   ]
  },
  {
   "cell_type": "markdown",
   "id": "51327f36",
   "metadata": {},
   "source": [
    "### Estimation of parameters"
   ]
  },
  {
   "cell_type": "code",
   "execution_count": 171,
   "id": "96552f05",
   "metadata": {},
   "outputs": [],
   "source": [
    "stock_array = ['F.csv','CAT.csv','DIS.csv','MCD.csv','KO.csv','PEP.csv','WMT.csv','C.csv','WFC.csv','JPM.csv','AAPL.csv','IBM.csv','PFE.csv','JNJ.csv','XOM.csv','MRO.csv','ED.csv','T.csv','VZ.csv','NEM.csv']\n",
    "stock_names = ['F','CAT','DIS','MCD','KO','PEP','WMT','C','WFC','JPM','AAPL','IBM','PFE','JNJ','XOM','MRO','ED','T','VZ','NEM']\n",
    "init_data = np.empty((0, 48))\n",
    "\n",
    "for stock in stock_array:\n",
    "  with open(stock, newline='') as stock_csv:\n",
    "    csv_read = csv.DictReader(stock_csv)\n",
    "    stock_column = np.array([])\n",
    "    for stock_row in csv_read:\n",
    "      stock_column = np.append(stock_column,float(stock_row['Adj Close']))\n",
    "  buffer = np.array([stock_column])\n",
    "  init_data = np.append(init_data,buffer,axis=0)\n",
    "\n",
    "data2 = np.empty((20, 45))\n",
    "\n",
    "for i in range(0,20):\n",
    "  for j in range(0,45):\n",
    "    data2[i][j]=(init_data[i][j+1]-init_data[i][j])/init_data[i][j]\n",
    "\n",
    "mu_val = np.mean(data2, axis=1)\n",
    "stock_column = np.empty((20,20))\n",
    "\n",
    "for i in range(0,20):\n",
    "  for j in range(0,20):\n",
    "    a = data2[i,:]\n",
    "    b = data2[j,:]\n",
    "    c = np.cov(a, b)\n",
    "    stock_column[i][j] = c[0,1]\n",
    "\n",
    "df_cov = pd.DataFrame(stock_column, columns=stock_names, index=stock_names)\n",
    "rf_year = 0.04345\n",
    "rf_month = rf_year/12\n",
    "mkt_cap_array = [59.24,123.65,320.82,175.05,241.07,203.93,391.96,158.94,186.38,485.58,2100,134.51,227.71,439.99,265.65,10.62,26.41,208.35,237.39,56.93]\n",
    "\n",
    "mu_october = []\n",
    "for i in range(20):\n",
    "    mu_october.append(init_data[i][-2]/init_data[i][-3]-1)\n",
    "    \n",
    "mu_november = []\n",
    "for i in range(20):\n",
    "    mu_november.append(init_data[i][-1]/init_data[i][-2]-1)\n",
    "    \n",
    "mkt_w = []\n",
    "for i in range(20):\n",
    "    mkt_w.append(mkt_cap_array[i]/sum(mkt_cap_array))\n",
    "    \n",
    "mu_cap_val = np.dot(np.array(mu_val),np.array(mkt_w))\n",
    "var_cap_val = np.dot(np.array(mkt_w),(np.dot(stock_column,np.array(mkt_w))))\n",
    "lambda_val = (mu_cap_val - rf_month)/var_cap_val"
   ]
  },
  {
   "cell_type": "code",
   "execution_count": 172,
   "id": "838aceef",
   "metadata": {},
   "outputs": [
    {
     "name": "stdout",
     "output_type": "stream",
     "text": [
      "mean return:\n"
     ]
    },
    {
     "data": {
      "text/plain": [
       "array([-2.47672167e-02,  2.05868694e-03,  1.43739778e-05,  1.63954745e-02,\n",
       "        4.54341806e-03,  4.17431531e-03,  3.74537781e-03, -1.98470248e-02,\n",
       "        7.82040636e-03,  7.83931502e-03,  3.15632257e-02,  3.08112537e-03,\n",
       "       -1.94987945e-03,  1.40589894e-03,  1.14095581e-02,  1.66172102e-02,\n",
       "        4.67715630e-03,  8.13844736e-03,  1.87990673e-03, -4.39309782e-03])"
      ]
     },
     "execution_count": 172,
     "metadata": {},
     "output_type": "execute_result"
    }
   ],
   "source": [
    "print('mean return:')\n",
    "mu_val"
   ]
  },
  {
   "cell_type": "code",
   "execution_count": 173,
   "id": "154b4b2a",
   "metadata": {},
   "outputs": [
    {
     "name": "stdout",
     "output_type": "stream",
     "text": [
      "covariance matrix:\n"
     ]
    },
    {
     "data": {
      "text/html": [
       "<div>\n",
       "<style scoped>\n",
       "    .dataframe tbody tr th:only-of-type {\n",
       "        vertical-align: middle;\n",
       "    }\n",
       "\n",
       "    .dataframe tbody tr th {\n",
       "        vertical-align: top;\n",
       "    }\n",
       "\n",
       "    .dataframe thead th {\n",
       "        text-align: right;\n",
       "    }\n",
       "</style>\n",
       "<table border=\"1\" class=\"dataframe\">\n",
       "  <thead>\n",
       "    <tr style=\"text-align: right;\">\n",
       "      <th></th>\n",
       "      <th>F</th>\n",
       "      <th>CAT</th>\n",
       "      <th>DIS</th>\n",
       "      <th>MCD</th>\n",
       "      <th>KO</th>\n",
       "      <th>PEP</th>\n",
       "      <th>WMT</th>\n",
       "      <th>C</th>\n",
       "      <th>WFC</th>\n",
       "      <th>JPM</th>\n",
       "      <th>AAPL</th>\n",
       "      <th>IBM</th>\n",
       "      <th>PFE</th>\n",
       "      <th>JNJ</th>\n",
       "      <th>XOM</th>\n",
       "      <th>MRO</th>\n",
       "      <th>ED</th>\n",
       "      <th>T</th>\n",
       "      <th>VZ</th>\n",
       "      <th>NEM</th>\n",
       "    </tr>\n",
       "  </thead>\n",
       "  <tbody>\n",
       "    <tr>\n",
       "      <th>F</th>\n",
       "      <td>0.021957</td>\n",
       "      <td>0.005966</td>\n",
       "      <td>0.003265</td>\n",
       "      <td>0.003193</td>\n",
       "      <td>0.002823</td>\n",
       "      <td>0.002279</td>\n",
       "      <td>0.002748</td>\n",
       "      <td>0.008763</td>\n",
       "      <td>0.003159</td>\n",
       "      <td>0.004948</td>\n",
       "      <td>0.002881</td>\n",
       "      <td>0.004677</td>\n",
       "      <td>0.001585</td>\n",
       "      <td>0.001856</td>\n",
       "      <td>0.002940</td>\n",
       "      <td>0.004385</td>\n",
       "      <td>0.001008</td>\n",
       "      <td>0.001640</td>\n",
       "      <td>0.002440</td>\n",
       "      <td>0.003682</td>\n",
       "    </tr>\n",
       "    <tr>\n",
       "      <th>CAT</th>\n",
       "      <td>0.005966</td>\n",
       "      <td>0.007163</td>\n",
       "      <td>0.002322</td>\n",
       "      <td>0.001826</td>\n",
       "      <td>0.001839</td>\n",
       "      <td>0.001650</td>\n",
       "      <td>0.000381</td>\n",
       "      <td>0.002927</td>\n",
       "      <td>-0.000239</td>\n",
       "      <td>0.000640</td>\n",
       "      <td>0.004730</td>\n",
       "      <td>0.002547</td>\n",
       "      <td>0.001178</td>\n",
       "      <td>0.000683</td>\n",
       "      <td>0.002172</td>\n",
       "      <td>0.005207</td>\n",
       "      <td>-0.000066</td>\n",
       "      <td>0.002225</td>\n",
       "      <td>0.002091</td>\n",
       "      <td>0.003900</td>\n",
       "    </tr>\n",
       "    <tr>\n",
       "      <th>DIS</th>\n",
       "      <td>0.003265</td>\n",
       "      <td>0.002322</td>\n",
       "      <td>0.002522</td>\n",
       "      <td>0.001118</td>\n",
       "      <td>0.001132</td>\n",
       "      <td>0.001054</td>\n",
       "      <td>0.000432</td>\n",
       "      <td>0.001672</td>\n",
       "      <td>-0.000248</td>\n",
       "      <td>0.000175</td>\n",
       "      <td>0.001547</td>\n",
       "      <td>0.001674</td>\n",
       "      <td>0.000220</td>\n",
       "      <td>0.000579</td>\n",
       "      <td>0.000379</td>\n",
       "      <td>0.001599</td>\n",
       "      <td>0.000023</td>\n",
       "      <td>0.001121</td>\n",
       "      <td>0.001182</td>\n",
       "      <td>0.000191</td>\n",
       "    </tr>\n",
       "    <tr>\n",
       "      <th>MCD</th>\n",
       "      <td>0.003193</td>\n",
       "      <td>0.001826</td>\n",
       "      <td>0.001118</td>\n",
       "      <td>0.002818</td>\n",
       "      <td>0.001361</td>\n",
       "      <td>0.000948</td>\n",
       "      <td>0.000268</td>\n",
       "      <td>0.001907</td>\n",
       "      <td>0.000525</td>\n",
       "      <td>0.001265</td>\n",
       "      <td>0.004143</td>\n",
       "      <td>0.001809</td>\n",
       "      <td>0.000684</td>\n",
       "      <td>0.000738</td>\n",
       "      <td>0.001310</td>\n",
       "      <td>0.001933</td>\n",
       "      <td>0.000730</td>\n",
       "      <td>0.001272</td>\n",
       "      <td>0.001285</td>\n",
       "      <td>0.000552</td>\n",
       "    </tr>\n",
       "    <tr>\n",
       "      <th>KO</th>\n",
       "      <td>0.002823</td>\n",
       "      <td>0.001839</td>\n",
       "      <td>0.001132</td>\n",
       "      <td>0.001361</td>\n",
       "      <td>0.001971</td>\n",
       "      <td>0.001550</td>\n",
       "      <td>0.000235</td>\n",
       "      <td>0.001880</td>\n",
       "      <td>0.000632</td>\n",
       "      <td>0.001276</td>\n",
       "      <td>0.001687</td>\n",
       "      <td>0.001323</td>\n",
       "      <td>0.000483</td>\n",
       "      <td>0.000967</td>\n",
       "      <td>0.000766</td>\n",
       "      <td>0.001436</td>\n",
       "      <td>0.000369</td>\n",
       "      <td>0.000926</td>\n",
       "      <td>0.000880</td>\n",
       "      <td>0.000581</td>\n",
       "    </tr>\n",
       "    <tr>\n",
       "      <th>PEP</th>\n",
       "      <td>0.002279</td>\n",
       "      <td>0.001650</td>\n",
       "      <td>0.001054</td>\n",
       "      <td>0.000948</td>\n",
       "      <td>0.001550</td>\n",
       "      <td>0.002249</td>\n",
       "      <td>0.000165</td>\n",
       "      <td>0.002044</td>\n",
       "      <td>0.000960</td>\n",
       "      <td>0.001426</td>\n",
       "      <td>0.001275</td>\n",
       "      <td>0.001069</td>\n",
       "      <td>0.000494</td>\n",
       "      <td>0.001194</td>\n",
       "      <td>0.000088</td>\n",
       "      <td>0.001036</td>\n",
       "      <td>0.000430</td>\n",
       "      <td>0.000641</td>\n",
       "      <td>0.000843</td>\n",
       "      <td>0.000354</td>\n",
       "    </tr>\n",
       "    <tr>\n",
       "      <th>WMT</th>\n",
       "      <td>0.002748</td>\n",
       "      <td>0.000381</td>\n",
       "      <td>0.000432</td>\n",
       "      <td>0.000268</td>\n",
       "      <td>0.000235</td>\n",
       "      <td>0.000165</td>\n",
       "      <td>0.002129</td>\n",
       "      <td>0.000844</td>\n",
       "      <td>0.000811</td>\n",
       "      <td>0.001184</td>\n",
       "      <td>-0.000468</td>\n",
       "      <td>0.000780</td>\n",
       "      <td>-0.000639</td>\n",
       "      <td>0.000448</td>\n",
       "      <td>-0.000701</td>\n",
       "      <td>-0.001506</td>\n",
       "      <td>-0.000180</td>\n",
       "      <td>-0.000023</td>\n",
       "      <td>0.000093</td>\n",
       "      <td>-0.000691</td>\n",
       "    </tr>\n",
       "    <tr>\n",
       "      <th>C</th>\n",
       "      <td>0.008763</td>\n",
       "      <td>0.002927</td>\n",
       "      <td>0.001672</td>\n",
       "      <td>0.001907</td>\n",
       "      <td>0.001880</td>\n",
       "      <td>0.002044</td>\n",
       "      <td>0.000844</td>\n",
       "      <td>0.008502</td>\n",
       "      <td>0.004235</td>\n",
       "      <td>0.004881</td>\n",
       "      <td>0.001344</td>\n",
       "      <td>0.002489</td>\n",
       "      <td>0.001428</td>\n",
       "      <td>0.001538</td>\n",
       "      <td>0.001015</td>\n",
       "      <td>0.001445</td>\n",
       "      <td>0.000940</td>\n",
       "      <td>0.001401</td>\n",
       "      <td>0.001691</td>\n",
       "      <td>0.001137</td>\n",
       "    </tr>\n",
       "    <tr>\n",
       "      <th>WFC</th>\n",
       "      <td>0.003159</td>\n",
       "      <td>-0.000239</td>\n",
       "      <td>-0.000248</td>\n",
       "      <td>0.000525</td>\n",
       "      <td>0.000632</td>\n",
       "      <td>0.000960</td>\n",
       "      <td>0.000811</td>\n",
       "      <td>0.004235</td>\n",
       "      <td>0.005671</td>\n",
       "      <td>0.004895</td>\n",
       "      <td>-0.002409</td>\n",
       "      <td>0.000970</td>\n",
       "      <td>0.001383</td>\n",
       "      <td>0.000734</td>\n",
       "      <td>-0.000925</td>\n",
       "      <td>-0.002014</td>\n",
       "      <td>0.000619</td>\n",
       "      <td>-0.000507</td>\n",
       "      <td>-0.000393</td>\n",
       "      <td>-0.000822</td>\n",
       "    </tr>\n",
       "    <tr>\n",
       "      <th>JPM</th>\n",
       "      <td>0.004948</td>\n",
       "      <td>0.000640</td>\n",
       "      <td>0.000175</td>\n",
       "      <td>0.001265</td>\n",
       "      <td>0.001276</td>\n",
       "      <td>0.001426</td>\n",
       "      <td>0.001184</td>\n",
       "      <td>0.004881</td>\n",
       "      <td>0.004895</td>\n",
       "      <td>0.005632</td>\n",
       "      <td>-0.000177</td>\n",
       "      <td>0.001196</td>\n",
       "      <td>0.001388</td>\n",
       "      <td>0.001028</td>\n",
       "      <td>-0.000309</td>\n",
       "      <td>-0.001447</td>\n",
       "      <td>0.000726</td>\n",
       "      <td>0.000332</td>\n",
       "      <td>0.000304</td>\n",
       "      <td>-0.000339</td>\n",
       "    </tr>\n",
       "    <tr>\n",
       "      <th>AAPL</th>\n",
       "      <td>0.002881</td>\n",
       "      <td>0.004730</td>\n",
       "      <td>0.001547</td>\n",
       "      <td>0.004143</td>\n",
       "      <td>0.001687</td>\n",
       "      <td>0.001275</td>\n",
       "      <td>-0.000468</td>\n",
       "      <td>0.001344</td>\n",
       "      <td>-0.002409</td>\n",
       "      <td>-0.000177</td>\n",
       "      <td>0.016221</td>\n",
       "      <td>0.002846</td>\n",
       "      <td>0.001076</td>\n",
       "      <td>0.000712</td>\n",
       "      <td>0.004034</td>\n",
       "      <td>0.005897</td>\n",
       "      <td>0.000928</td>\n",
       "      <td>0.003806</td>\n",
       "      <td>0.003401</td>\n",
       "      <td>0.003435</td>\n",
       "    </tr>\n",
       "    <tr>\n",
       "      <th>IBM</th>\n",
       "      <td>0.004677</td>\n",
       "      <td>0.002547</td>\n",
       "      <td>0.001674</td>\n",
       "      <td>0.001809</td>\n",
       "      <td>0.001323</td>\n",
       "      <td>0.001069</td>\n",
       "      <td>0.000780</td>\n",
       "      <td>0.002489</td>\n",
       "      <td>0.000970</td>\n",
       "      <td>0.001196</td>\n",
       "      <td>0.002846</td>\n",
       "      <td>0.004144</td>\n",
       "      <td>-0.000175</td>\n",
       "      <td>0.000905</td>\n",
       "      <td>0.000908</td>\n",
       "      <td>0.002204</td>\n",
       "      <td>-0.000106</td>\n",
       "      <td>0.001074</td>\n",
       "      <td>0.001062</td>\n",
       "      <td>0.001518</td>\n",
       "    </tr>\n",
       "    <tr>\n",
       "      <th>PFE</th>\n",
       "      <td>0.001585</td>\n",
       "      <td>0.001178</td>\n",
       "      <td>0.000220</td>\n",
       "      <td>0.000684</td>\n",
       "      <td>0.000483</td>\n",
       "      <td>0.000494</td>\n",
       "      <td>-0.000639</td>\n",
       "      <td>0.001428</td>\n",
       "      <td>0.001383</td>\n",
       "      <td>0.001388</td>\n",
       "      <td>0.001076</td>\n",
       "      <td>-0.000175</td>\n",
       "      <td>0.002892</td>\n",
       "      <td>0.000302</td>\n",
       "      <td>0.001037</td>\n",
       "      <td>0.001598</td>\n",
       "      <td>0.000543</td>\n",
       "      <td>0.000724</td>\n",
       "      <td>0.000659</td>\n",
       "      <td>0.001044</td>\n",
       "    </tr>\n",
       "    <tr>\n",
       "      <th>JNJ</th>\n",
       "      <td>0.001856</td>\n",
       "      <td>0.000683</td>\n",
       "      <td>0.000579</td>\n",
       "      <td>0.000738</td>\n",
       "      <td>0.000967</td>\n",
       "      <td>0.001194</td>\n",
       "      <td>0.000448</td>\n",
       "      <td>0.001538</td>\n",
       "      <td>0.000734</td>\n",
       "      <td>0.001028</td>\n",
       "      <td>0.000712</td>\n",
       "      <td>0.000905</td>\n",
       "      <td>0.000302</td>\n",
       "      <td>0.001277</td>\n",
       "      <td>0.000293</td>\n",
       "      <td>0.000323</td>\n",
       "      <td>0.000294</td>\n",
       "      <td>0.000447</td>\n",
       "      <td>0.000543</td>\n",
       "      <td>0.000017</td>\n",
       "    </tr>\n",
       "    <tr>\n",
       "      <th>XOM</th>\n",
       "      <td>0.002940</td>\n",
       "      <td>0.002172</td>\n",
       "      <td>0.000379</td>\n",
       "      <td>0.001310</td>\n",
       "      <td>0.000766</td>\n",
       "      <td>0.000088</td>\n",
       "      <td>-0.000701</td>\n",
       "      <td>0.001015</td>\n",
       "      <td>-0.000925</td>\n",
       "      <td>-0.000309</td>\n",
       "      <td>0.004034</td>\n",
       "      <td>0.000908</td>\n",
       "      <td>0.001037</td>\n",
       "      <td>0.000293</td>\n",
       "      <td>0.003762</td>\n",
       "      <td>0.004551</td>\n",
       "      <td>0.000520</td>\n",
       "      <td>0.001150</td>\n",
       "      <td>0.001138</td>\n",
       "      <td>0.002296</td>\n",
       "    </tr>\n",
       "    <tr>\n",
       "      <th>MRO</th>\n",
       "      <td>0.004385</td>\n",
       "      <td>0.005207</td>\n",
       "      <td>0.001599</td>\n",
       "      <td>0.001933</td>\n",
       "      <td>0.001436</td>\n",
       "      <td>0.001036</td>\n",
       "      <td>-0.001506</td>\n",
       "      <td>0.001445</td>\n",
       "      <td>-0.002014</td>\n",
       "      <td>-0.001447</td>\n",
       "      <td>0.005897</td>\n",
       "      <td>0.002204</td>\n",
       "      <td>0.001598</td>\n",
       "      <td>0.000323</td>\n",
       "      <td>0.004551</td>\n",
       "      <td>0.011778</td>\n",
       "      <td>0.000657</td>\n",
       "      <td>0.001873</td>\n",
       "      <td>0.002129</td>\n",
       "      <td>0.005487</td>\n",
       "    </tr>\n",
       "    <tr>\n",
       "      <th>ED</th>\n",
       "      <td>0.001008</td>\n",
       "      <td>-0.000066</td>\n",
       "      <td>0.000023</td>\n",
       "      <td>0.000730</td>\n",
       "      <td>0.000369</td>\n",
       "      <td>0.000430</td>\n",
       "      <td>-0.000180</td>\n",
       "      <td>0.000940</td>\n",
       "      <td>0.000619</td>\n",
       "      <td>0.000726</td>\n",
       "      <td>0.000928</td>\n",
       "      <td>-0.000106</td>\n",
       "      <td>0.000543</td>\n",
       "      <td>0.000294</td>\n",
       "      <td>0.000520</td>\n",
       "      <td>0.000657</td>\n",
       "      <td>0.001452</td>\n",
       "      <td>0.000489</td>\n",
       "      <td>0.000266</td>\n",
       "      <td>-0.000231</td>\n",
       "    </tr>\n",
       "    <tr>\n",
       "      <th>T</th>\n",
       "      <td>0.001640</td>\n",
       "      <td>0.002225</td>\n",
       "      <td>0.001121</td>\n",
       "      <td>0.001272</td>\n",
       "      <td>0.000926</td>\n",
       "      <td>0.000641</td>\n",
       "      <td>-0.000023</td>\n",
       "      <td>0.001401</td>\n",
       "      <td>-0.000507</td>\n",
       "      <td>0.000332</td>\n",
       "      <td>0.003806</td>\n",
       "      <td>0.001074</td>\n",
       "      <td>0.000724</td>\n",
       "      <td>0.000447</td>\n",
       "      <td>0.001150</td>\n",
       "      <td>0.001873</td>\n",
       "      <td>0.000489</td>\n",
       "      <td>0.003348</td>\n",
       "      <td>0.002119</td>\n",
       "      <td>-0.000203</td>\n",
       "    </tr>\n",
       "    <tr>\n",
       "      <th>VZ</th>\n",
       "      <td>0.002440</td>\n",
       "      <td>0.002091</td>\n",
       "      <td>0.001182</td>\n",
       "      <td>0.001285</td>\n",
       "      <td>0.000880</td>\n",
       "      <td>0.000843</td>\n",
       "      <td>0.000093</td>\n",
       "      <td>0.001691</td>\n",
       "      <td>-0.000393</td>\n",
       "      <td>0.000304</td>\n",
       "      <td>0.003401</td>\n",
       "      <td>0.001062</td>\n",
       "      <td>0.000659</td>\n",
       "      <td>0.000543</td>\n",
       "      <td>0.001138</td>\n",
       "      <td>0.002129</td>\n",
       "      <td>0.000266</td>\n",
       "      <td>0.002119</td>\n",
       "      <td>0.002600</td>\n",
       "      <td>0.000230</td>\n",
       "    </tr>\n",
       "    <tr>\n",
       "      <th>NEM</th>\n",
       "      <td>0.003682</td>\n",
       "      <td>0.003900</td>\n",
       "      <td>0.000191</td>\n",
       "      <td>0.000552</td>\n",
       "      <td>0.000581</td>\n",
       "      <td>0.000354</td>\n",
       "      <td>-0.000691</td>\n",
       "      <td>0.001137</td>\n",
       "      <td>-0.000822</td>\n",
       "      <td>-0.000339</td>\n",
       "      <td>0.003435</td>\n",
       "      <td>0.001518</td>\n",
       "      <td>0.001044</td>\n",
       "      <td>0.000017</td>\n",
       "      <td>0.002296</td>\n",
       "      <td>0.005487</td>\n",
       "      <td>-0.000231</td>\n",
       "      <td>-0.000203</td>\n",
       "      <td>0.000230</td>\n",
       "      <td>0.009671</td>\n",
       "    </tr>\n",
       "  </tbody>\n",
       "</table>\n",
       "</div>"
      ],
      "text/plain": [
       "             F       CAT       DIS       MCD        KO       PEP       WMT  \\\n",
       "F     0.021957  0.005966  0.003265  0.003193  0.002823  0.002279  0.002748   \n",
       "CAT   0.005966  0.007163  0.002322  0.001826  0.001839  0.001650  0.000381   \n",
       "DIS   0.003265  0.002322  0.002522  0.001118  0.001132  0.001054  0.000432   \n",
       "MCD   0.003193  0.001826  0.001118  0.002818  0.001361  0.000948  0.000268   \n",
       "KO    0.002823  0.001839  0.001132  0.001361  0.001971  0.001550  0.000235   \n",
       "PEP   0.002279  0.001650  0.001054  0.000948  0.001550  0.002249  0.000165   \n",
       "WMT   0.002748  0.000381  0.000432  0.000268  0.000235  0.000165  0.002129   \n",
       "C     0.008763  0.002927  0.001672  0.001907  0.001880  0.002044  0.000844   \n",
       "WFC   0.003159 -0.000239 -0.000248  0.000525  0.000632  0.000960  0.000811   \n",
       "JPM   0.004948  0.000640  0.000175  0.001265  0.001276  0.001426  0.001184   \n",
       "AAPL  0.002881  0.004730  0.001547  0.004143  0.001687  0.001275 -0.000468   \n",
       "IBM   0.004677  0.002547  0.001674  0.001809  0.001323  0.001069  0.000780   \n",
       "PFE   0.001585  0.001178  0.000220  0.000684  0.000483  0.000494 -0.000639   \n",
       "JNJ   0.001856  0.000683  0.000579  0.000738  0.000967  0.001194  0.000448   \n",
       "XOM   0.002940  0.002172  0.000379  0.001310  0.000766  0.000088 -0.000701   \n",
       "MRO   0.004385  0.005207  0.001599  0.001933  0.001436  0.001036 -0.001506   \n",
       "ED    0.001008 -0.000066  0.000023  0.000730  0.000369  0.000430 -0.000180   \n",
       "T     0.001640  0.002225  0.001121  0.001272  0.000926  0.000641 -0.000023   \n",
       "VZ    0.002440  0.002091  0.001182  0.001285  0.000880  0.000843  0.000093   \n",
       "NEM   0.003682  0.003900  0.000191  0.000552  0.000581  0.000354 -0.000691   \n",
       "\n",
       "             C       WFC       JPM      AAPL       IBM       PFE       JNJ  \\\n",
       "F     0.008763  0.003159  0.004948  0.002881  0.004677  0.001585  0.001856   \n",
       "CAT   0.002927 -0.000239  0.000640  0.004730  0.002547  0.001178  0.000683   \n",
       "DIS   0.001672 -0.000248  0.000175  0.001547  0.001674  0.000220  0.000579   \n",
       "MCD   0.001907  0.000525  0.001265  0.004143  0.001809  0.000684  0.000738   \n",
       "KO    0.001880  0.000632  0.001276  0.001687  0.001323  0.000483  0.000967   \n",
       "PEP   0.002044  0.000960  0.001426  0.001275  0.001069  0.000494  0.001194   \n",
       "WMT   0.000844  0.000811  0.001184 -0.000468  0.000780 -0.000639  0.000448   \n",
       "C     0.008502  0.004235  0.004881  0.001344  0.002489  0.001428  0.001538   \n",
       "WFC   0.004235  0.005671  0.004895 -0.002409  0.000970  0.001383  0.000734   \n",
       "JPM   0.004881  0.004895  0.005632 -0.000177  0.001196  0.001388  0.001028   \n",
       "AAPL  0.001344 -0.002409 -0.000177  0.016221  0.002846  0.001076  0.000712   \n",
       "IBM   0.002489  0.000970  0.001196  0.002846  0.004144 -0.000175  0.000905   \n",
       "PFE   0.001428  0.001383  0.001388  0.001076 -0.000175  0.002892  0.000302   \n",
       "JNJ   0.001538  0.000734  0.001028  0.000712  0.000905  0.000302  0.001277   \n",
       "XOM   0.001015 -0.000925 -0.000309  0.004034  0.000908  0.001037  0.000293   \n",
       "MRO   0.001445 -0.002014 -0.001447  0.005897  0.002204  0.001598  0.000323   \n",
       "ED    0.000940  0.000619  0.000726  0.000928 -0.000106  0.000543  0.000294   \n",
       "T     0.001401 -0.000507  0.000332  0.003806  0.001074  0.000724  0.000447   \n",
       "VZ    0.001691 -0.000393  0.000304  0.003401  0.001062  0.000659  0.000543   \n",
       "NEM   0.001137 -0.000822 -0.000339  0.003435  0.001518  0.001044  0.000017   \n",
       "\n",
       "           XOM       MRO        ED         T        VZ       NEM  \n",
       "F     0.002940  0.004385  0.001008  0.001640  0.002440  0.003682  \n",
       "CAT   0.002172  0.005207 -0.000066  0.002225  0.002091  0.003900  \n",
       "DIS   0.000379  0.001599  0.000023  0.001121  0.001182  0.000191  \n",
       "MCD   0.001310  0.001933  0.000730  0.001272  0.001285  0.000552  \n",
       "KO    0.000766  0.001436  0.000369  0.000926  0.000880  0.000581  \n",
       "PEP   0.000088  0.001036  0.000430  0.000641  0.000843  0.000354  \n",
       "WMT  -0.000701 -0.001506 -0.000180 -0.000023  0.000093 -0.000691  \n",
       "C     0.001015  0.001445  0.000940  0.001401  0.001691  0.001137  \n",
       "WFC  -0.000925 -0.002014  0.000619 -0.000507 -0.000393 -0.000822  \n",
       "JPM  -0.000309 -0.001447  0.000726  0.000332  0.000304 -0.000339  \n",
       "AAPL  0.004034  0.005897  0.000928  0.003806  0.003401  0.003435  \n",
       "IBM   0.000908  0.002204 -0.000106  0.001074  0.001062  0.001518  \n",
       "PFE   0.001037  0.001598  0.000543  0.000724  0.000659  0.001044  \n",
       "JNJ   0.000293  0.000323  0.000294  0.000447  0.000543  0.000017  \n",
       "XOM   0.003762  0.004551  0.000520  0.001150  0.001138  0.002296  \n",
       "MRO   0.004551  0.011778  0.000657  0.001873  0.002129  0.005487  \n",
       "ED    0.000520  0.000657  0.001452  0.000489  0.000266 -0.000231  \n",
       "T     0.001150  0.001873  0.000489  0.003348  0.002119 -0.000203  \n",
       "VZ    0.001138  0.002129  0.000266  0.002119  0.002600  0.000230  \n",
       "NEM   0.002296  0.005487 -0.000231 -0.000203  0.000230  0.009671  "
      ]
     },
     "execution_count": 173,
     "metadata": {},
     "output_type": "execute_result"
    }
   ],
   "source": [
    "print('covariance matrix:')\n",
    "df_cov"
   ]
  },
  {
   "cell_type": "code",
   "execution_count": 174,
   "id": "bb043f96",
   "metadata": {},
   "outputs": [
    {
     "name": "stdout",
     "output_type": "stream",
     "text": [
      "lambda value: 3.032013739142709\n"
     ]
    }
   ],
   "source": [
    "print('lambda value:', lambda_val)"
   ]
  },
  {
   "cell_type": "markdown",
   "id": "546b03fc",
   "metadata": {},
   "source": [
    "### Model 1: Standard MVO"
   ]
  },
  {
   "cell_type": "code",
   "execution_count": 175,
   "id": "f2d8d447",
   "metadata": {},
   "outputs": [
    {
     "data": {
      "text/plain": [
       "0.05522328522933507"
      ]
     },
     "execution_count": 175,
     "metadata": {},
     "output_type": "execute_result"
    }
   ],
   "source": [
    "x_standardMVO = cp.Variable(20)\n",
    "problem = cp.Problem(cp.Maximize(mu_val.T@x_standardMVO - lambda_val*cp.quad_form(x_standardMVO, stock_column)), [sum(x_standardMVO) == 1])\n",
    "problem.solve()"
   ]
  },
  {
   "cell_type": "code",
   "execution_count": 176,
   "id": "2035dcfa",
   "metadata": {},
   "outputs": [
    {
     "name": "stdout",
     "output_type": "stream",
     "text": [
      "optimal value: 0.05522328522933507\n",
      "optimal weights:\n"
     ]
    },
    {
     "data": {
      "text/plain": [
       "array([-0.06137239, -0.18503826,  0.87902741,  1.45966544, -0.98364027,\n",
       "        0.9566449 ,  0.07124755, -1.6571645 ,  2.1640115 ,  0.42273401,\n",
       "        0.21491488, -1.29861305, -1.78979265, -0.15861133,  0.94519397,\n",
       "        0.58516598, -1.08359816,  1.01744536, -0.54920764,  0.05098727])"
      ]
     },
     "execution_count": 176,
     "metadata": {},
     "output_type": "execute_result"
    }
   ],
   "source": [
    "print ('optimal value:', problem.value)\n",
    "print ('optimal weights:')\n",
    "x_standardMVO.value"
   ]
  },
  {
   "cell_type": "code",
   "execution_count": 177,
   "id": "e0c1cc5c",
   "metadata": {},
   "outputs": [],
   "source": [
    "mu_standardMVO = np.array(mu_val)\n",
    "w_standardMVO = x_standardMVO.value\n",
    "ret_standardMVO = np.dot(mu_standardMVO, w_standardMVO)\n",
    "var_standardMVO = np.dot (w_standardMVO,(np.dot(stock_column,w_standardMVO)))\n",
    "std_standardMVO = np.sqrt(var_standardMVO)\n",
    "sharpe_standardMVO = (ret_standardMVO - rf_month)/std_standardMVO"
   ]
  },
  {
   "cell_type": "markdown",
   "id": "9bedb5e9",
   "metadata": {},
   "source": [
    "### Model 2: Robust MVO"
   ]
  },
  {
   "cell_type": "code",
   "execution_count": 178,
   "id": "814661a9",
   "metadata": {},
   "outputs": [
    {
     "data": {
      "text/plain": [
       "0.042885384982616945"
      ]
     },
     "execution_count": 178,
     "metadata": {},
     "output_type": "execute_result"
    }
   ],
   "source": [
    "theta_val = (np.sqrt(np.diag(np.diag(stock_column))))/np.sqrt(43)\n",
    "cl_90, cl_95 = 1.645*theta_val, 1.96*theta_val\n",
    "\n",
    "# 90% confidence level\n",
    "x_robustMVO_90 = cp.Variable(20)\n",
    "abs_robustMVO_90 = cp.abs(x_robustMVO_90)\n",
    "problem = cp.Problem(cp.Maximize(mu_val.T@x_robustMVO_90 - lambda_val*cp.quad_form(x_robustMVO_90, stock_column)), [mu_val.T@x_robustMVO_90 - cl_90.T@abs_robustMVO_90 >= ret_standardMVO,sum(x_robustMVO_90) == 1])\n",
    "problem.solve()"
   ]
  },
  {
   "cell_type": "code",
   "execution_count": 179,
   "id": "79cb04ef",
   "metadata": {},
   "outputs": [
    {
     "name": "stdout",
     "output_type": "stream",
     "text": [
      "optimal value for 90% confidence level: 0.042885384982616945\n",
      "optimal weights:\n"
     ]
    },
    {
     "data": {
      "text/plain": [
       "array([-0.33656332, -0.30526143,  0.92131382,  2.39816404, -1.56803693,\n",
       "        1.65528766,  0.4840912 , -1.72333276,  2.11010883,  1.01037026,\n",
       "        0.24350173, -1.64825141, -2.30269604, -0.74786526,  1.38005997,\n",
       "        0.94029251, -1.63054323,  1.38263139, -1.1922176 , -0.07105341])"
      ]
     },
     "execution_count": 179,
     "metadata": {},
     "output_type": "execute_result"
    }
   ],
   "source": [
    "print ('optimal value for 90% confidence level:', problem.value)\n",
    "print ('optimal weights:')\n",
    "x_robustMVO_90.value"
   ]
  },
  {
   "cell_type": "code",
   "execution_count": 180,
   "id": "d37bd733",
   "metadata": {},
   "outputs": [
    {
     "data": {
      "text/plain": [
       "0.03796243273205899"
      ]
     },
     "execution_count": 180,
     "metadata": {},
     "output_type": "execute_result"
    }
   ],
   "source": [
    "# 95% confidence level\n",
    "x_robustMVO_95 = cp.Variable(20)\n",
    "abs_robustMVO_95 = cp.abs(x_robustMVO_95)\n",
    "problem = cp.Problem(cp.Maximize(mu_val.T@x_robustMVO_95 - lambda_val*cp.quad_form(x_robustMVO_95, stock_column)), [mu_val.T@x_robustMVO_95 - cl_95.T@abs_robustMVO_95 >= ret_standardMVO,sum(x_robustMVO_95) == 1])\n",
    "problem.solve()"
   ]
  },
  {
   "cell_type": "code",
   "execution_count": 181,
   "id": "24b9b20f",
   "metadata": {},
   "outputs": [
    {
     "name": "stdout",
     "output_type": "stream",
     "text": [
      "optimal value for 95% confidence level: 0.03796243273205899\n",
      "optimal weights:\n"
     ]
    },
    {
     "data": {
      "text/plain": [
       "array([-0.44872301, -0.34243063,  0.83466465,  2.5690925 , -1.65126012,\n",
       "        1.81891057,  0.6915785 , -1.50662219,  1.8445975 ,  1.124207  ,\n",
       "        0.22561117, -1.61749974, -2.25197061, -0.97179111,  1.44820291,\n",
       "        0.99556475, -1.68360804,  1.40020698, -1.36681584, -0.11191526])"
      ]
     },
     "execution_count": 181,
     "metadata": {},
     "output_type": "execute_result"
    }
   ],
   "source": [
    "print ('optimal value for 95% confidence level:', problem.value)\n",
    "print ('optimal weights:')\n",
    "x_robustMVO_95.value"
   ]
  },
  {
   "cell_type": "code",
   "execution_count": 182,
   "id": "e8646182",
   "metadata": {},
   "outputs": [],
   "source": [
    "w_robustMVO_90 = x_robustMVO_90.value\n",
    "ret_robustMVO_90 = np.dot(mu_standardMVO, w_robustMVO_90)\n",
    "var_robustMVO_90 = np.dot(w_robustMVO_90,(np.dot(stock_column,w_robustMVO_90)))\n",
    "std_robustMVO_90 = np.sqrt(var_robustMVO_90)\n",
    "sharpe_robustMVO_90 = (ret_robustMVO_90 - rf_month)/std_robustMVO_90\n",
    "\n",
    "w_robustMVO_95 = x_robustMVO_95.value\n",
    "ret_robustMVO_95 = np.dot(mu_standardMVO, w_robustMVO_95)\n",
    "var_robustMVO_95 = np.dot(w_robustMVO_95,(np.dot(stock_column,w_robustMVO_95)))\n",
    "std_robustMVO_95 = np.sqrt(var_robustMVO_95)\n",
    "sharpe_robustMVO_95 = (ret_robustMVO_95 - rf_month)/std_robustMVO_95"
   ]
  },
  {
   "cell_type": "markdown",
   "id": "2e10f869",
   "metadata": {},
   "source": [
    "### Model 3: Risk parity optimization with no short-selling"
   ]
  },
  {
   "cell_type": "code",
   "execution_count": 183,
   "id": "ccc40d03",
   "metadata": {},
   "outputs": [],
   "source": [
    "class riskParity(object):\n",
    "    \n",
    "    def __init__(self):\n",
    "        pass\n",
    "\n",
    "    def objective(self, x): # calculate objective function\n",
    "        y = x * np.dot(stock_column, x)\n",
    "        f = 0\n",
    "        for i in range(20):\n",
    "            for j in range(i,20):\n",
    "                x_buffer = y[i] - y[j]\n",
    "                f += x_buffer*x_buffer\n",
    "        f = 2*f\n",
    "        return f\n",
    "\n",
    "    def gradient(self, x): # calculate gradient\n",
    "        gradient_matrix = np.zeros(20)\n",
    "        y = x * np.dot(stock_column,x)\n",
    "        for i in range(20):\n",
    "            for j in range(i,20):\n",
    "                delta_1, delta_2 = stock_column[i].dot(x) + stock_column[i,i] * x[i], stock_column[i,j] * x[i]\n",
    "                G = (y[i]-y[j]) * (delta_1 - delta_2)\n",
    "                gradient_matrix[i] += G\n",
    "            gradient_matrix[i] *= 4\n",
    "        return gradient_matrix\n",
    "\n",
    "    def constraints(self, x): # calculate constraints\n",
    "        constraint_matrix = [1.0] * 20\n",
    "        return constraint_matrix\n",
    "\n",
    "    def jacobian(self, x): # calculate Jacobian matrix\n",
    "        jacobian_matrix = np.array([[1.0] * 20])\n",
    "        return jacobian_matrix"
   ]
  },
  {
   "cell_type": "code",
   "execution_count": 184,
   "id": "5855b61c",
   "metadata": {},
   "outputs": [],
   "source": [
    "n = 20\n",
    "w_initial, lb, ub, cl, cu = [1/n] * n, [0] * n, [1] * n, [1], [1]\n",
    "\n",
    "nlp = ipopt.problem(n=len(w_initial), m=len(cl), problem_obj=riskParity(), lb=lb, ub=ub, cl=cl, cu=cu)\n",
    "nlp.addOption('jac_c_constant'.encode('utf-8'), 'yes'.encode('utf-8'))\n",
    "nlp.addOption('hessian_approximation'.encode('utf-8'), 'limited-memory'.encode('utf-8'))\n",
    "nlp.addOption('mu_strategy'.encode('utf-8'), 'adaptive'.encode('utf-8'))\n",
    "nlp.addOption('tol'.encode('utf-8'), 1e-10)\n",
    "\n",
    "w, dummyVar = nlp.solve(w_initial) # solving for the weights"
   ]
  },
  {
   "cell_type": "code",
   "execution_count": 185,
   "id": "141033e6",
   "metadata": {},
   "outputs": [],
   "source": [
    "w_riskParity = w/np.sum(w)\n",
    "ret_riskParity = np.dot(mu_standardMVO,w_riskParity)\n",
    "var_riskParity = np.dot(w_riskParity,(np.dot(stock_column,w_riskParity)))\n",
    "std_riskParity = np.sqrt(var_riskParity)\n",
    "sharpe_riskParity = (ret_riskParity-rf_month)/std_riskParity"
   ]
  },
  {
   "cell_type": "code",
   "execution_count": 186,
   "id": "5215c3c6",
   "metadata": {},
   "outputs": [
    {
     "name": "stdout",
     "output_type": "stream",
     "text": [
      "optimal weights for risk parity optimization with no short-selling:\n"
     ]
    },
    {
     "data": {
      "text/plain": [
       "array([0.01448362, 0.02629311, 0.05523552, 0.04005757, 0.04790042,\n",
       "       0.05155798, 0.12613948, 0.02288095, 0.05597793, 0.0362749 ,\n",
       "       0.02315996, 0.03759066, 0.0641025 , 0.07050151, 0.05143452,\n",
       "       0.02855864, 0.10397183, 0.04990735, 0.04961795, 0.04435361])"
      ]
     },
     "execution_count": 186,
     "metadata": {},
     "output_type": "execute_result"
    }
   ],
   "source": [
    "print ('optimal weights for risk parity optimization with no short-selling:')\n",
    "w_riskParity"
   ]
  },
  {
   "cell_type": "markdown",
   "id": "6bff11b2",
   "metadata": {},
   "source": [
    "### Model 4: Market capitalization"
   ]
  },
  {
   "cell_type": "code",
   "execution_count": 187,
   "id": "bb01294f",
   "metadata": {},
   "outputs": [],
   "source": [
    "w_mktCap = np.array(mkt_w)\n",
    "ret_mktCap = mu_cap_val\n",
    "var_mktCap = var_cap_val\n",
    "std_mktCap = np.sqrt(var_mktCap)\n",
    "sharpe_mktCap = (ret_mktCap-rf_month)/std_mktCap"
   ]
  },
  {
   "cell_type": "code",
   "execution_count": 188,
   "id": "4b2dca7e",
   "metadata": {},
   "outputs": [
    {
     "name": "stdout",
     "output_type": "stream",
     "text": [
      "normalized weights for market capitalization:\n"
     ]
    },
    {
     "data": {
      "text/plain": [
       "array([0.00978498, 0.02042391, 0.05299149, 0.02891391, 0.03981877,\n",
       "       0.03368417, 0.06474205, 0.02625294, 0.03078534, 0.08020574,\n",
       "       0.34686778, 0.02221771, 0.03761203, 0.07267541, 0.04387877,\n",
       "       0.00175416, 0.00436228, 0.03441424, 0.03921093, 0.00940342])"
      ]
     },
     "execution_count": 188,
     "metadata": {},
     "output_type": "execute_result"
    }
   ],
   "source": [
    "print ('normalized weights for market capitalization:')\n",
    "w_mktCap"
   ]
  },
  {
   "cell_type": "markdown",
   "id": "3ff82c1e",
   "metadata": {},
   "source": [
    "### Question A"
   ]
  },
  {
   "cell_type": "code",
   "execution_count": 189,
   "id": "7a40f550",
   "metadata": {},
   "outputs": [
    {
     "name": "stdout",
     "output_type": "stream",
     "text": [
      "Using standard MVO:\n",
      "Return for October 2008 = [-0.06137239 -0.18503826  0.87902741  1.45966544 -0.98364027  0.9566449\n",
      "  0.07124755 -1.6571645   2.1640115   0.42273401  0.21491488 -1.29861305\n",
      " -1.78979265 -0.15861133  0.94519397  0.58516598 -1.08359816  1.01744536\n",
      " -0.54920764  0.05098727]\n",
      "Variance for October 2008 = 0.016916682902129988\n",
      "Standard deviation for October 2008 = 0.13006414918081766\n",
      "Sharpe Ratio for October 2008 = [ -0.49970132  -1.45050805   6.73057552  11.19481897  -7.59057061\n",
      "   7.32733861   0.51994893 -12.76897088  16.61019332   3.22235741\n",
      "   1.62453715 -10.0122431  -13.78868421  -1.2473242    7.239298\n",
      "   4.47121784  -8.35909819   7.79480379  -4.25042929   0.36417752]\n"
     ]
    }
   ],
   "source": [
    "# using model 1 (standard MVO)\n",
    "\n",
    "ret_standardMVO_oct = np.dot(np.array(1), w_standardMVO)\n",
    "var_standardMVO_oct = np.dot(w_standardMVO, np.dot(stock_column,w_standardMVO))\n",
    "std_standardMVO_oct = np.sqrt(var_standardMVO_oct)\n",
    "sharpe_standardMVO_oct = (ret_standardMVO_oct - rf_month)/std_standardMVO_oct\n",
    "\n",
    "print('Using standard MVO:')\n",
    "print('Return for October 2008 =', ret_standardMVO_oct)\n",
    "print('Variance for October 2008 =', var_standardMVO_oct)\n",
    "print('Standard deviation for October 2008 =', std_standardMVO_oct)\n",
    "print('Sharpe Ratio for October 2008 =', sharpe_standardMVO_oct)"
   ]
  },
  {
   "cell_type": "code",
   "execution_count": 190,
   "id": "1981a62c",
   "metadata": {},
   "outputs": [
    {
     "name": "stdout",
     "output_type": "stream",
     "text": [
      "Using robust MVO:\n",
      "Return for October 2008 (90% CL) = 0.2685947640335115\n",
      "Return for October 2008 (95% CL) = 0.15689180695145954\n",
      "Variance for October 2008 (90% CL) = 0.03413310565198897\n",
      "Variance for October 2008 (95% CL) = 0.036303574885277023\n",
      "Standard deviation for October 2008 (90% CL) = 0.18475146995893962\n",
      "Standard deviation for October 2008 (95% CL) = 0.1905349702424125\n",
      "Sharpe Ratio for October 2008 (90% CL) = 1.4342182541717676\n",
      "Sharpe Ratio for October 2008 (95% CL) = 0.8044243711436473\n"
     ]
    }
   ],
   "source": [
    "# using model 2 (robust MVO)\n",
    "\n",
    "# 90% confidence level\n",
    "ret_robustMVO_90_oct = np.dot(np.array(mu_october), w_robustMVO_90)\n",
    "var_robustMVO_90_oct = np.dot(w_robustMVO_90, np.dot(stock_column,w_robustMVO_90))\n",
    "std_robustMVO_90_oct = np.sqrt(var_robustMVO_90_oct)\n",
    "sharpe_robustMVO_90_oct = (ret_robustMVO_90_oct - rf_month)/std_robustMVO_90_oct\n",
    "\n",
    "# 95% confidence level\n",
    "ret_robustMVO_95_oct = np.dot(np.array(mu_october), w_robustMVO_95)\n",
    "var_robustMVO_95_oct = np.dot(w_robustMVO_95, np.dot(stock_column,w_robustMVO_95))\n",
    "std_robustMVO_95_oct = np.sqrt(var_robustMVO_95_oct)\n",
    "sharpe_robustMVO_95_oct = (ret_robustMVO_95_oct - rf_month)/std_robustMVO_95_oct\n",
    "\n",
    "print('Using robust MVO:')\n",
    "print('Return for October 2008 (90% CL) =', ret_robustMVO_90_oct)\n",
    "print('Return for October 2008 (95% CL) =', ret_robustMVO_95_oct)\n",
    "print('Variance for October 2008 (90% CL) =', var_robustMVO_90_oct)\n",
    "print('Variance for October 2008 (95% CL) =', var_robustMVO_95_oct)\n",
    "print('Standard deviation for October 2008 (90% CL) =', std_robustMVO_90_oct)\n",
    "print('Standard deviation for October 2008 (95% CL) =', std_robustMVO_95_oct)\n",
    "print('Sharpe Ratio for October 2008 (90% CL) =', sharpe_robustMVO_90_oct)\n",
    "print('Sharpe Ratio for October 2008 (95% CL) =', sharpe_robustMVO_95_oct)"
   ]
  },
  {
   "cell_type": "code",
   "execution_count": 191,
   "id": "0e4d257d",
   "metadata": {},
   "outputs": [
    {
     "name": "stdout",
     "output_type": "stream",
     "text": [
      "Using risk parity optimization with no short-selling:\n",
      "Return for October 2008 = -0.022701204942354853\n",
      "Variance for October 2008 = 0.0009151974679887562\n",
      "Standard deviation for October 2008 = 0.030252230793592003\n",
      "Sharpe Ratio for October 2008 = -0.8700858609495897\n"
     ]
    }
   ],
   "source": [
    "# using model 3 (risk parity optimization with no short-selling)\n",
    "\n",
    "ret_riskParity_oct = np.dot(np.array(mu_october), w_riskParity)\n",
    "var_riskParity_oct = np.dot(w_riskParity, np.dot(stock_column,w_riskParity))\n",
    "std_riskParity_oct = np.sqrt(var_riskParity_oct)\n",
    "sharpe_riskParity_oct = (ret_riskParity_oct - rf_month)/std_riskParity_oct\n",
    "\n",
    "print('Using risk parity optimization with no short-selling:')\n",
    "print('Return for October 2008 =', ret_riskParity_oct)\n",
    "print('Variance for October 2008 =', var_riskParity_oct)\n",
    "print('Standard deviation for October 2008 =', std_riskParity_oct)\n",
    "print('Sharpe Ratio for October 2008 =', sharpe_riskParity_oct)"
   ]
  },
  {
   "cell_type": "code",
   "execution_count": 192,
   "id": "b8415efe",
   "metadata": {},
   "outputs": [
    {
     "name": "stdout",
     "output_type": "stream",
     "text": [
      "Using market capitalization:\n",
      "Return for October 2008 = -0.07666716076850223\n",
      "Variance for October 2008 = 0.0031247839094572256\n",
      "Standard deviation for October 2008 = 0.05589976663150952\n",
      "Sharpe Ratio for October 2008 = -1.4362849603844128\n"
     ]
    }
   ],
   "source": [
    "# using model 4 (market capitalization)\n",
    "\n",
    "ret_mktCap_oct = np.dot(np.array(mu_october), w_mktCap)\n",
    "var_mktCap_oct = np.dot(w_mktCap, np.dot(stock_column,w_mktCap))\n",
    "std_mktCap_oct = np.sqrt(var_mktCap_oct)\n",
    "sharpe_mktCap_oct = (ret_mktCap_oct - rf_month)/std_mktCap_oct\n",
    "\n",
    "print('Using market capitalization:')\n",
    "print('Return for October 2008 =', ret_mktCap_oct)\n",
    "print('Variance for October 2008 =', var_mktCap_oct)\n",
    "print('Standard deviation for October 2008 =', std_mktCap_oct)\n",
    "print('Sharpe Ratio for October 2008 =', sharpe_mktCap_oct)"
   ]
  },
  {
   "cell_type": "markdown",
   "id": "e7e510c4",
   "metadata": {},
   "source": [
    "### Question B"
   ]
  },
  {
   "cell_type": "code",
   "execution_count": 193,
   "id": "a8020e14",
   "metadata": {},
   "outputs": [
    {
     "name": "stdout",
     "output_type": "stream",
     "text": [
      "Using standard MVO:\n",
      "Return for November 2008 = 0.273479778228532\n",
      "Variance for November 2008 = 0.016916682902129988\n",
      "Standard deviation for November 2008 = 0.13006414918081766\n",
      "Sharpe Ratio for November 2008 = 2.0748142097176645\n"
     ]
    }
   ],
   "source": [
    "# using Model 1 (standard MVO)\n",
    "\n",
    "ret_standardMVO_nov = np.dot(np.array(mu_november), w_standardMVO)\n",
    "var_standardMVO_nov = np.dot(w_standardMVO, np.dot(stock_column,w_standardMVO))\n",
    "std_standardMVO_nov = np.sqrt(var_standardMVO)\n",
    "sharpe_standardMVO_nov = (ret_standardMVO_nov - rf_month)/std_standardMVO\n",
    "\n",
    "print('Using standard MVO:')\n",
    "print('Return for November 2008 =', ret_standardMVO_nov)\n",
    "print('Variance for November 2008 =', var_standardMVO_nov)\n",
    "print('Standard deviation for November 2008 =', std_standardMVO_nov)\n",
    "print('Sharpe Ratio for November 2008 =', sharpe_standardMVO_nov)"
   ]
  },
  {
   "cell_type": "code",
   "execution_count": 194,
   "id": "ae26a8f6",
   "metadata": {},
   "outputs": [
    {
     "name": "stdout",
     "output_type": "stream",
     "text": [
      "Using robust MVO:\n",
      "Return for November 2008 (90% CL) = 0.26794248638057977\n",
      "Return for November 2008 (95% CL) = 0.2295049167911477\n",
      "Variance for November 2008 (90% CL) = 0.03413310565198897\n",
      "Variance for November 2008 (95% CL) = 0.036303574885277023\n",
      "Standard deviation for November 2008 (90% CL) = 0.18475146995893962\n",
      "Standard deviation for November 2008 (95% CL) = 0.1905349702424125\n",
      "Sharpe Ratio for November 2008 (90% CL) = 1.4306876860356834\n",
      "Sharpe Ratio for November 2008 (95% CL) = 1.185525592338394\n"
     ]
    }
   ],
   "source": [
    "# using Model 2 (robust MVO)\n",
    "\n",
    "# 90% confidence level\n",
    "ret_robustMVO_90_nov = np.dot(np.array(mu_november), w_robustMVO_90)\n",
    "var_robustMVO_90_nov = np.dot(w_robustMVO_90, np.dot(stock_column,w_robustMVO_90))\n",
    "std_robustMVO_90_nov = np.sqrt(var_robustMVO_90_nov)\n",
    "sharpe_robustMVO_90_nov = (ret_robustMVO_90_nov - rf_month)/std_robustMVO_90_nov\n",
    "\n",
    "# 95% confidence level\n",
    "ret_robustMVO_95_nov = np.dot(np.array(mu_november), w_robustMVO_95)\n",
    "var_robustMVO_95_nov = np.dot(w_robustMVO_95, np.dot(stock_column,w_robustMVO_95))\n",
    "std_robustMVO_95_nov = np.sqrt(var_robustMVO_95_nov)\n",
    "sharpe_robustMVO_95_nov = (ret_robustMVO_95_nov - rf_month)/std_robustMVO_95_nov\n",
    "\n",
    "print('Using robust MVO:')\n",
    "print('Return for November 2008 (90% CL) =', ret_robustMVO_90_nov)\n",
    "print('Return for November 2008 (95% CL) =', ret_robustMVO_95_nov)\n",
    "print('Variance for November 2008 (90% CL) =', var_robustMVO_90_nov)\n",
    "print('Variance for November 2008 (95% CL) =', var_robustMVO_95_nov)\n",
    "print('Standard deviation for November 2008 (90% CL) =', std_robustMVO_90_nov)\n",
    "print('Standard deviation for November 2008 (95% CL) =', std_robustMVO_95_nov)\n",
    "print('Sharpe Ratio for November 2008 (90% CL) =', sharpe_robustMVO_90_nov)\n",
    "print('Sharpe Ratio for November 2008 (95% CL) =', sharpe_robustMVO_95_nov)"
   ]
  },
  {
   "cell_type": "code",
   "execution_count": 195,
   "id": "eca09446",
   "metadata": {},
   "outputs": [
    {
     "name": "stdout",
     "output_type": "stream",
     "text": [
      "Using risk parity optimization with no short-selling:\n",
      "Return for November 2008 = 0.016216964569248263\n",
      "Variance for November 2008 = 0.0009151974679887562\n",
      "Standard deviation for November 2008 = 0.030252230793592003\n",
      "Sharpe Ratio for November 2008 = 0.4163703272613876\n"
     ]
    }
   ],
   "source": [
    "# using model 3 (risk parity optimization with no short-selling)\n",
    "\n",
    "ret_riskParity_nov = np.dot(np.array(mu_november), w_riskParity)\n",
    "var_riskParity_nov = np.dot(w_riskParity, np.dot(stock_column,w_riskParity))\n",
    "std_riskParity_nov = np.sqrt(var_riskParity_nov)\n",
    "sharpe_riskParity_nov = (ret_riskParity_nov - rf_month)/std_riskParity_nov\n",
    "\n",
    "print('Using risk parity optimization with no short-selling:')\n",
    "print('Return for November 2008 =', ret_riskParity_nov)\n",
    "print('Variance for November 2008 =', var_riskParity_nov)\n",
    "print('Standard deviation for November 2008 =', std_riskParity_nov)\n",
    "print('Sharpe Ratio for November 2008 =', sharpe_riskParity_nov)"
   ]
  },
  {
   "cell_type": "code",
   "execution_count": 196,
   "id": "cdea805b",
   "metadata": {},
   "outputs": [
    {
     "name": "stdout",
     "output_type": "stream",
     "text": [
      "Using market capitalization:\n",
      "Return for November 2008 = -0.020910651885338048\n",
      "Variance for November 2008 = 0.0031247839094572256\n",
      "Standard deviation for November 2008 = 0.05589976663150952\n",
      "Sharpe Ratio for November 2008 = -0.4388477215009248\n"
     ]
    }
   ],
   "source": [
    "# using model 4 (market capitalization)\n",
    "\n",
    "ret_mktCap_nov = np.dot(np.array(mu_november), w_mktCap)\n",
    "var_mktCap_nov = np.dot(w_mktCap, np.dot(stock_column,w_mktCap))\n",
    "std_mktCap_nov = np.sqrt(var_mktCap_nov)\n",
    "sharpe_mktCap_nov = (ret_mktCap_nov - rf_month)/std_mktCap_nov\n",
    "\n",
    "print('Using market capitalization:')\n",
    "print('Return for November 2008 =', ret_mktCap_nov)\n",
    "print('Variance for November 2008 =', var_mktCap_nov)\n",
    "print('Standard deviation for November 2008 =', std_mktCap_nov)\n",
    "print('Sharpe Ratio for November 2008 =', sharpe_mktCap_nov)"
   ]
  },
  {
   "cell_type": "markdown",
   "id": "0e9fbcf0",
   "metadata": {},
   "source": [
    "### Question C"
   ]
  },
  {
   "cell_type": "code",
   "execution_count": 197,
   "id": "feb65fd9",
   "metadata": {},
   "outputs": [],
   "source": [
    "# estimated MVO frontier\n",
    "\n",
    "ret_front1 = []\n",
    "std_front1 = []\n",
    "\n",
    "lambda_temp = 0.2\n",
    "for l in range(250):\n",
    "    lambda_temp = lambda_temp + 0.2\n",
    "    x1 = cp.Variable(20)\n",
    "    problem1 = cp.Problem(cp.Maximize(mu_val.T@x1 - lambda_temp*cp.quad_form(x1, stock_column)),\n",
    "                          [sum(x1) == 1])\n",
    "    problem1.solve()\n",
    "    w1 = x1.value  \n",
    "    ret_front1.append(float(np.dot(np.array(mu_october), w1)))\n",
    "    std_front1.append(float(np.dot(w1, np.dot(stock_column,w1))))"
   ]
  },
  {
   "cell_type": "code",
   "execution_count": 198,
   "id": "e17ce6e9",
   "metadata": {},
   "outputs": [],
   "source": [
    "# true MVO frontier\n",
    "\n",
    "ret_front2 = []\n",
    "std_front2 = []\n",
    "\n",
    "lambda_temp = 0.2\n",
    "for l in range(250):\n",
    "    lambda_temp = lambda_temp + 0.2\n",
    "    x1 = cp.Variable(20)\n",
    "    problem1 = cp.Problem(cp.Maximize(mu_val.T@x1 - lambda_temp*cp.quad_form(x1, stock_column)),\n",
    "                          [sum(x1) == 1])\n",
    "    problem1.solve()\n",
    "    w1 = x1.value  \n",
    "    ret_front2.append(float(np.dot(np.array(mu_val), w1)))\n",
    "    std_front2.append(float(np.dot(w1, np.dot(stock_column,w1))))"
   ]
  },
  {
   "cell_type": "code",
   "execution_count": 199,
   "id": "18f28098",
   "metadata": {},
   "outputs": [],
   "source": [
    "# actual MVO frontier\n",
    "\n",
    "ret_front3 = []\n",
    "std_front3 = []\n",
    "\n",
    "lambda_temp = 0.2\n",
    "for l in range(250):\n",
    "    lambda_temp = lambda_temp + 0.2\n",
    "    x1 = cp.Variable(20)\n",
    "    problem1 = cp.Problem(cp.Maximize(mu_val.T@x1 - lambda_temp*cp.quad_form(x1, stock_column)),\n",
    "                          [sum(x1) == 1])\n",
    "    problem1.solve()\n",
    "    w1 = x1.value  \n",
    "    ret_front3.append(float(np.dot(np.array(mu_val+cl_90[0][0]), w1)))\n",
    "    std_front3.append(float(np.dot(w1, np.dot(stock_column,w1))))"
   ]
  },
  {
   "cell_type": "code",
   "execution_count": 200,
   "id": "6a19a0b0",
   "metadata": {},
   "outputs": [],
   "source": [
    "# actual robust frontier (90% CL)\n",
    "\n",
    "ret_front4 = []\n",
    "std_front4 = []\n",
    "\n",
    "lambda_temp = 0.2\n",
    "for l in range(250):\n",
    "    lambda_temp = lambda_temp + 0.2\n",
    "    x1 = cp.Variable(20)\n",
    "    problem1 = cp.Problem(cp.Maximize(mu_val.T@x1 - lambda_temp*cp.quad_form(x1, stock_column)),\n",
    "                          [mu_val.T@x1 - cl_90.T@abs_robustMVO_90 >= ret_standardMVO,sum(x1) == 1])\n",
    "    problem1.solve()\n",
    "    w1 = x1.value  \n",
    "    ret_front4.append(float(np.dot(np.array(mu_val+cl_90[1][1]), w1)))\n",
    "    std_front4.append(float(np.dot(w1, np.dot(stock_column,w1))))"
   ]
  },
  {
   "cell_type": "code",
   "execution_count": 201,
   "id": "2b407d2b",
   "metadata": {},
   "outputs": [],
   "source": [
    "# actual robust frontier (95% CL)\n",
    "\n",
    "ret_front5 = []\n",
    "std_front5 = []\n",
    "\n",
    "lambda_temp = 0.2\n",
    "for l in range(250):\n",
    "    lambda_temp = lambda_temp + 0.2\n",
    "    x1 = cp.Variable(20)\n",
    "    problem1 = cp.Problem(cp.Maximize(mu_val.T@x1 - lambda_temp*cp.quad_form(x1, stock_column)),\n",
    "                          [mu_val.T@x1 - cl_95.T@abs_robustMVO_95 >= ret_standardMVO,sum(x1) == 1])\n",
    "    problem1.solve()\n",
    "    w1 = x1.value  \n",
    "    ret_front5.append(float(np.dot(np.array(mu_val+cl_95[0][0]), w1)))\n",
    "    std_front5.append(float(np.dot(w1, np.dot(stock_column,w1))))"
   ]
  },
  {
   "cell_type": "code",
   "execution_count": 202,
   "id": "54c12215",
   "metadata": {},
   "outputs": [],
   "source": [
    "# estimated robust frontier (90% CL)\n",
    "\n",
    "ret_front6 = []\n",
    "std_front6 = []\n",
    "\n",
    "lambda_temp = 0.2\n",
    "for l in range(250):\n",
    "    lambda_temp = lambda_temp + 0.2\n",
    "    x1 = cp.Variable(20)\n",
    "    problem1 = cp.Problem(cp.Maximize(mu_val.T@x1 - lambda_temp*cp.quad_form(x1, stock_column)),\n",
    "                          [mu_val.T@x1 - cl_90.T@abs_robustMVO_90 >= ret_standardMVO,sum(x1) == 1])\n",
    "    problem1.solve()\n",
    "    w1 = x1.value  \n",
    "    ret_front6.append(float(np.dot(np.array(mu_october+cl_90[0][0]), w1)))\n",
    "    std_front6.append(float(np.dot(w1, np.dot(stock_column,w1))))"
   ]
  },
  {
   "cell_type": "code",
   "execution_count": 203,
   "id": "8e2e37cf",
   "metadata": {},
   "outputs": [],
   "source": [
    "# estimated robust frontier (95% CL)\n",
    "\n",
    "ret_front7 = []\n",
    "std_front7 = []\n",
    "\n",
    "lambda_temp = 0.2\n",
    "for l in range(250):\n",
    "    lambda_temp = lambda_temp + 0.2\n",
    "    x1 = cp.Variable(20)\n",
    "    problem1 = cp.Problem(cp.Maximize(mu_val.T@x1 - lambda_temp*cp.quad_form(x1, stock_column)),\n",
    "                          [mu_val.T@x1 - cl_95.T@abs_robustMVO_95 >= ret_standardMVO,sum(x1) == 1])\n",
    "    problem1.solve()\n",
    "    w1 = x1.value  \n",
    "    ret_front7.append(float(np.dot(np.array(mu_october+cl_95[0][0]), w1)))\n",
    "    std_front7.append(float(np.dot(w1, np.dot(stock_column,w1))))"
   ]
  },
  {
   "cell_type": "code",
   "execution_count": 204,
   "id": "8114769f",
   "metadata": {
    "scrolled": true
   },
   "outputs": [
    {
     "data": {
      "image/png": "[encoded data removed]",
      "text/plain": [
       "<Figure size 1080x540 with 1 Axes>"
      ]
     },
     "metadata": {
      "needs_background": "light"
     },
     "output_type": "display_data"
    }
   ],
   "source": [
    "# efficient frontier plot\n",
    "\n",
    "ax = plt.gca()\n",
    "plt.rcParams['figure.figsize'] = [15, 7.5]\n",
    "ax.plot(std_front1, ret_front1, label='estimated MVO frontier')\n",
    "ax.plot(std_front2, ret_front2, label='true MVO frontier')\n",
    "ax.plot(std_front3, ret_front3, label='actual MVO frontier')\n",
    "ax.plot(std_front4, ret_front4, label='actual robust frontier (90% CL)')\n",
    "ax.plot(std_front5, ret_front5, label='actual robust frontier (95% CL)')\n",
    "ax.plot(std_front6, ret_front6, label='estimated robust frontier (90% CL)')\n",
    "ax.plot(std_front7, ret_front7, label='estimated robust frontier (95% CL)')\n",
    "\n",
    "ax.set_xlabel('Volatility (Standard Deviation)')\n",
    "ax.set_ylabel('Expected Return')\n",
    "plt.title('Efficient Frontier')\n",
    "ax.legend()\n",
    "ax.grid()\n",
    "plt.show()"
   ]
  },
  {
   "cell_type": "code",
   "execution_count": null,
   "id": "d4f03b05",
   "metadata": {},
   "outputs": [],
   "source": []
  }
 ],
 "metadata": {
  "kernelspec": {
   "display_name": "Python 3",
   "language": "python",
   "name": "python3"
  },
  "language_info": {
   "codemirror_mode": {
    "name": "ipython",
    "version": 3
   },
   "file_extension": ".py",
   "mimetype": "text/x-python",
   "name": "python",
   "nbconvert_exporter": "python",
   "pygments_lexer": "ipython3",
   "version": "3.8.8"
  }
 },
 "nbformat": 4,
 "nbformat_minor": 5
}
